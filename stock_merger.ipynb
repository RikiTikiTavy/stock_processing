{
 "cells": [
  {
   "cell_type": "code",
   "execution_count": 1,
   "metadata": {},
   "outputs": [
    {
     "data": {
      "text/html": [
       "<style>.container { width:80% !important; }</style>"
      ],
      "text/plain": [
       "<IPython.core.display.HTML object>"
      ]
     },
     "metadata": {},
     "output_type": "display_data"
    }
   ],
   "source": [
    "import pandas as pd\n",
    "import glob, os\n",
    "pd.set_option('float_format', '{:f}'.format)\n",
    "\n",
    "dateparse = lambda x: pd.datetime.strptime(x, '%Y%m%d')\n",
    "\n",
    "pd.options.display.max_columns = 999\n",
    "pd.options.display.max_rows = 100\n",
    "\n",
    "from IPython.core.display import display, HTML\n",
    "display(HTML(\"<style>.container { width:80% !important; }</style>\"))"
   ]
  },
  {
   "cell_type": "code",
   "execution_count": 2,
   "metadata": {},
   "outputs": [],
   "source": [
    "def concatenate_stock(exchange):\n",
    "    path = r'C:\\Users\\parsh\\Desktop\\Exchange/data/US_stocks_csv/{}'.format(exchange)\n",
    "    all_files = glob.glob(os.path.join(path, \"*.csv\"))  \n",
    "    \n",
    "    df_from_each_file = (df_parse(f) for f in all_files)\n",
    "    \n",
    "    \n",
    "    concatenated_df = pd.concat(df_from_each_file, ignore_index=True)\n",
    "\n",
    "    concatenated_df['Exchange'] = exchange\n",
    "    print(exchange + ' is merged')\n",
    "    return concatenated_df\n",
    "\n",
    "\n",
    "def df_parse(f):\n",
    "    stock_df = pd.read_csv(f, parse_dates=['Date'],  date_parser=dateparse)\n",
    "    \n",
    "    stock_df['ATR1'] = abs (stock_df['High'] - stock_df['Low'])\n",
    "    stock_df['ATR2'] = abs (stock_df['High'] - stock_df['Close'].shift())\n",
    "    stock_df['ATR3'] = abs (stock_df['Close'].shift() - stock_df['Low'])\n",
    "\n",
    "    stock_df['ATR'] = stock_df[['ATR1', 'ATR2', 'ATR3']].max(axis=1)\n",
    "    \n",
    "    stock_df['mean_stock_price'] = (stock_df['High'] - stock_df['Low'] ) /2 + stock_df['Low']\n",
    "    \n",
    "    stock_df['ATR_percent'] = stock_df['ATR'] / stock_df['mean_stock_price'] * 100\n",
    "    stock_df.drop(['ATR','ATR1', 'ATR2', 'ATR3'], inplace=True, axis=1)\n",
    "    return stock_df"
   ]
  },
  {
   "cell_type": "code",
   "execution_count": 3,
   "metadata": {},
   "outputs": [],
   "source": [
    "exchange_list = ['AMEX', 'Delisted', 'NASDAQ', 'NYSE', 'NYSE Arca']\n",
    "\n",
    "df_from_each_exchange = (concatenate_stock(exchange) for exchange in exchange_list)"
   ]
  },
  {
   "cell_type": "code",
   "execution_count": 4,
   "metadata": {},
   "outputs": [
    {
     "name": "stdout",
     "output_type": "stream",
     "text": [
      "AMEX is merged\n",
      "Delisted is merged\n",
      "NASDAQ is merged\n",
      "NYSE is merged\n",
      "NYSE Arca is merged\n"
     ]
    }
   ],
   "source": [
    "concatenated_df = pd.concat(df_from_each_exchange, ignore_index=True)"
   ]
  },
  {
   "cell_type": "code",
   "execution_count": null,
   "metadata": {},
   "outputs": [],
   "source": []
  },
  {
   "cell_type": "code",
   "execution_count": null,
   "metadata": {},
   "outputs": [],
   "source": []
  },
  {
   "cell_type": "code",
   "execution_count": null,
   "metadata": {},
   "outputs": [],
   "source": []
  },
  {
   "cell_type": "code",
   "execution_count": 5,
   "metadata": {},
   "outputs": [],
   "source": [
    "concatenated_df.set_index(pd.DatetimeIndex(concatenated_df['Date']), inplace=True)"
   ]
  },
  {
   "cell_type": "code",
   "execution_count": 7,
   "metadata": {},
   "outputs": [],
   "source": [
    "concatenated_df.drop(['Date'], axis=1, inplace=True)\n",
    "\n",
    "concatenated_df.sort_index(inplace=True, kind = 'heapsort')"
   ]
  },
  {
   "cell_type": "code",
   "execution_count": 8,
   "metadata": {},
   "outputs": [
    {
     "data": {
      "text/html": [
       "<div>\n",
       "<style scoped>\n",
       "    .dataframe tbody tr th:only-of-type {\n",
       "        vertical-align: middle;\n",
       "    }\n",
       "\n",
       "    .dataframe tbody tr th {\n",
       "        vertical-align: top;\n",
       "    }\n",
       "\n",
       "    .dataframe thead th {\n",
       "        text-align: right;\n",
       "    }\n",
       "</style>\n",
       "<table border=\"1\" class=\"dataframe\">\n",
       "  <thead>\n",
       "    <tr style=\"text-align: right;\">\n",
       "      <th></th>\n",
       "      <th>Ticker</th>\n",
       "      <th>Open</th>\n",
       "      <th>High</th>\n",
       "      <th>Low</th>\n",
       "      <th>Close</th>\n",
       "      <th>Volume</th>\n",
       "      <th>mean_stock_price</th>\n",
       "      <th>ATR_percent</th>\n",
       "      <th>Exchange</th>\n",
       "    </tr>\n",
       "    <tr>\n",
       "      <th>Date</th>\n",
       "      <th></th>\n",
       "      <th></th>\n",
       "      <th></th>\n",
       "      <th></th>\n",
       "      <th></th>\n",
       "      <th></th>\n",
       "      <th></th>\n",
       "      <th></th>\n",
       "      <th></th>\n",
       "    </tr>\n",
       "  </thead>\n",
       "  <tbody>\n",
       "    <tr>\n",
       "      <th>1985-01-02</th>\n",
       "      <td>GRIF-199511</td>\n",
       "      <td>3.750000</td>\n",
       "      <td>3.750000</td>\n",
       "      <td>3.750000</td>\n",
       "      <td>3.750000</td>\n",
       "      <td>960</td>\n",
       "      <td>3.750000</td>\n",
       "      <td>0.000000</td>\n",
       "      <td>Delisted</td>\n",
       "    </tr>\n",
       "    <tr>\n",
       "      <th>1985-01-02</th>\n",
       "      <td>AVGA-199001</td>\n",
       "      <td>11.750000</td>\n",
       "      <td>12.000000</td>\n",
       "      <td>11.625000</td>\n",
       "      <td>11.750000</td>\n",
       "      <td>4700</td>\n",
       "      <td>11.812500</td>\n",
       "      <td>3.174603</td>\n",
       "      <td>Delisted</td>\n",
       "    </tr>\n",
       "    <tr>\n",
       "      <th>1985-01-02</th>\n",
       "      <td>OHC.B-200302</td>\n",
       "      <td>4.931670</td>\n",
       "      <td>4.931670</td>\n",
       "      <td>4.931670</td>\n",
       "      <td>4.931670</td>\n",
       "      <td>715</td>\n",
       "      <td>4.931670</td>\n",
       "      <td>0.000000</td>\n",
       "      <td>Delisted</td>\n",
       "    </tr>\n",
       "    <tr>\n",
       "      <th>1985-01-02</th>\n",
       "      <td>GTR-198605</td>\n",
       "      <td>21.003150</td>\n",
       "      <td>21.003150</td>\n",
       "      <td>20.777310</td>\n",
       "      <td>20.777310</td>\n",
       "      <td>332</td>\n",
       "      <td>20.890230</td>\n",
       "      <td>1.081080</td>\n",
       "      <td>Delisted</td>\n",
       "    </tr>\n",
       "    <tr>\n",
       "      <th>1985-01-02</th>\n",
       "      <td>WORM-198806</td>\n",
       "      <td>1.062500</td>\n",
       "      <td>1.062500</td>\n",
       "      <td>1.062500</td>\n",
       "      <td>1.062500</td>\n",
       "      <td>66988</td>\n",
       "      <td>1.062500</td>\n",
       "      <td>0.000000</td>\n",
       "      <td>Delisted</td>\n",
       "    </tr>\n",
       "  </tbody>\n",
       "</table>\n",
       "</div>"
      ],
      "text/plain": [
       "                  Ticker      Open      High       Low     Close  Volume  \\\n",
       "Date                                                                       \n",
       "1985-01-02   GRIF-199511  3.750000  3.750000  3.750000  3.750000     960   \n",
       "1985-01-02   AVGA-199001 11.750000 12.000000 11.625000 11.750000    4700   \n",
       "1985-01-02  OHC.B-200302  4.931670  4.931670  4.931670  4.931670     715   \n",
       "1985-01-02    GTR-198605 21.003150 21.003150 20.777310 20.777310     332   \n",
       "1985-01-02   WORM-198806  1.062500  1.062500  1.062500  1.062500   66988   \n",
       "\n",
       "            mean_stock_price  ATR_percent  Exchange  \n",
       "Date                                                 \n",
       "1985-01-02          3.750000     0.000000  Delisted  \n",
       "1985-01-02         11.812500     3.174603  Delisted  \n",
       "1985-01-02          4.931670     0.000000  Delisted  \n",
       "1985-01-02         20.890230     1.081080  Delisted  \n",
       "1985-01-02          1.062500     0.000000  Delisted  "
      ]
     },
     "execution_count": 8,
     "metadata": {},
     "output_type": "execute_result"
    }
   ],
   "source": [
    "concatenated_df.head()"
   ]
  },
  {
   "cell_type": "code",
   "execution_count": 9,
   "metadata": {},
   "outputs": [],
   "source": [
    "def plot_full_volatility():\n",
    "\n",
    "    concatenated_df_group = concatenated_df.groupby([concatenated_df.index.year, concatenated_df.index.month])['ATR_percent'].agg('mean')\n",
    "    concatenated_df_group.plot(use_index=True, figsize=(12,10))"
   ]
  },
  {
   "cell_type": "code",
   "execution_count": 11,
   "metadata": {},
   "outputs": [
    {
     "data": {
      "image/png": "[encoded data removed]",
      "text/plain": [
       "<Figure size 864x720 with 1 Axes>"
      ]
     },
     "metadata": {
      "needs_background": "light"
     },
     "output_type": "display_data"
    }
   ],
   "source": [
    "plot_full_volatility()"
   ]
  },
  {
   "cell_type": "code",
   "execution_count": null,
   "metadata": {},
   "outputs": [],
   "source": []
  },
  {
   "cell_type": "markdown",
   "metadata": {},
   "source": [
    "# Drop stocks less than 250 trade day"
   ]
  },
  {
   "cell_type": "code",
   "execution_count": null,
   "metadata": {},
   "outputs": [],
   "source": [
    "count_stock= concatenated_df.groupby('Ticker').filter(lambda x: len(x) <= 250)"
   ]
  },
  {
   "cell_type": "code",
   "execution_count": null,
   "metadata": {},
   "outputs": [],
   "source": [
    "ticker_to_drop = count_stock.groupby('Ticker')['Ticker'].unique()"
   ]
  },
  {
   "cell_type": "code",
   "execution_count": null,
   "metadata": {},
   "outputs": [],
   "source": [
    "concatenated_df = concatenated_df[~concatenated_df['Ticker'].isin(ticker_to_drop.index)]"
   ]
  },
  {
   "cell_type": "code",
   "execution_count": null,
   "metadata": {},
   "outputs": [],
   "source": [
    "concatenated_df.to_csv('stock_database.csv')"
   ]
  }
 ],
 "metadata": {
  "kernelspec": {
   "display_name": "Python 3",
   "language": "python",
   "name": "python3"
  },
  "language_info": {
   "codemirror_mode": {
    "name": "ipython",
    "version": 3
   },
   "file_extension": ".py",
   "mimetype": "text/x-python",
   "name": "python",
   "nbconvert_exporter": "python",
   "pygments_lexer": "ipython3",
   "version": "3.6.7"
  }
 },
 "nbformat": 4,
 "nbformat_minor": 2
}
